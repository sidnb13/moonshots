{
  "nbformat": 4,
  "nbformat_minor": 0,
  "metadata": {
    "colab": {
      "provenance": [],
      "gpuType": "T4",
      "authorship_tag": "ABX9TyNughdDZ/SJrXVa+KYujWF4",
      "include_colab_link": true
    },
    "kernelspec": {
      "name": "python3",
      "display_name": "Python 3"
    },
    "language_info": {
      "name": "python"
    },
    "accelerator": "GPU"
  },
  "cells": [
    {
      "cell_type": "markdown",
      "metadata": {
        "id": "view-in-github",
        "colab_type": "text"
      },
      "source": [
        "<a href=\"https://colab.research.google.com/github/sidnb13/moonshots/blob/master/kernels/triton_kernels.ipynb\" target=\"_parent\"><img src=\"https://colab.research.google.com/assets/colab-badge.svg\" alt=\"Open In Colab\"/></a>"
      ]
    },
    {
      "cell_type": "code",
      "source": [
        "import torch\n",
        "import triton\n",
        "import triton.language as tl"
      ],
      "metadata": {
        "id": "qCLBbJysdbOJ"
      },
      "execution_count": 1,
      "outputs": []
    },
    {
      "cell_type": "code",
      "execution_count": 2,
      "metadata": {
        "id": "H920F343dDKQ"
      },
      "outputs": [],
      "source": [
        "@triton.jit\n",
        "def conv1d_loop_kernel(A, B, C, N: tl.constexpr, K: tl.constexpr):\n",
        "    res = tl.zeros((N,), dtype=tl.float32)\n",
        "\n",
        "    for i in range(N):\n",
        "        offs = tl.arange(0, K)\n",
        "        a_range = i + offs\n",
        "        b_range = offs\n",
        "        a = tl.load(A + a_range)\n",
        "        b = tl.load(B + b_range)\n",
        "        tl.store(C + i, tl.sum(a * b))"
      ]
    },
    {
      "cell_type": "code",
      "source": [
        "N, K   = 1024, 64\n",
        "device = 'cuda'\n",
        "# A is exactly length N\n",
        "A = torch.randn((N,), device=device, dtype=torch.float32)\n",
        "B = torch.randn((K,), device=device, dtype=torch.float32)\n",
        "C = torch.empty((N,), device=device, dtype=torch.float32)\n",
        "\n",
        "# one Triton program does the whole loop\n",
        "grid = lambda META: (1,)\n",
        "\n",
        "conv1d_loop_kernel[grid](A, B, C, N, K) # type: ignore\n",
        "torch.cuda.synchronize()\n",
        "\n",
        "# torch no-pad ⇒ valid conv ⇒ length = N-K+1\n",
        "expected = torch.nn.functional.conv1d(\n",
        "    A[None,None,:], B[None,None,:], padding=0\n",
        ").view(-1)\n",
        "# compare the first N-K+1 entries of C\n",
        "assert C.shape[0] >= expected.shape[0]\n",
        "assert torch.allclose(C[: expected.shape[0]], expected, atol=1e-5, rtol=1e-3)\n"
      ],
      "metadata": {
        "id": "OxTMANzddaip"
      },
      "execution_count": 3,
      "outputs": []
    },
    {
      "cell_type": "code",
      "source": [
        "@triton.jit\n",
        "def conv1d_tile_kernel(A, B, C, N: tl.constexpr, K: tl.constexpr, BLOCK: tl.constexpr):\n",
        "    # More efficient: launch a program per tile for vectorization\n",
        "    pid = tl.program_id(0)\n",
        "    offs = tl.arange(0, BLOCK)\n",
        "    idx = pid * BLOCK + offs\n",
        "    mask = idx < N\n",
        "\n",
        "    window = idx[:, None] + tl.arange(0, K)[None, :]\n",
        "\n",
        "    a = tl.load(A + window, mask[:, None]) # [BLOCK, K]\n",
        "    b = tl.load(B + tl.arange(0, K)) # [K]\n",
        "\n",
        "    c = tl.sum(a * b, axis=1)\n",
        "    tl.store(C + idx, c, mask)\n",
        "\n"
      ],
      "metadata": {
        "id": "tJXLS4Msi5oi"
      },
      "execution_count": 4,
      "outputs": []
    },
    {
      "cell_type": "code",
      "source": [
        "N, K   = 1024, 64\n",
        "device = 'cuda'\n",
        "# A is exactly length N\n",
        "A = torch.randn((N,), device=device, dtype=torch.float32)\n",
        "B = torch.randn((K,), device=device, dtype=torch.float32)\n",
        "C = torch.empty((N,), device=device, dtype=torch.float32)\n",
        "\n",
        "BLOCK = 32\n",
        "\n",
        "# one Triton program does the whole loop\n",
        "grid = lambda META: ((N + BLOCK - 1)//BLOCK,)\n",
        "\n",
        "conv1d_tile_kernel[grid](A, B, C, N, K, BLOCK) # type: ignore\n",
        "torch.cuda.synchronize()\n",
        "\n",
        "# torch no-pad ⇒ valid conv ⇒ length = N-K+1\n",
        "expected = torch.nn.functional.conv1d(\n",
        "    A[None,None,:], B[None,None,:], padding=0\n",
        ").view(-1)\n",
        "# compare the first N-K+1 entries of C\n",
        "assert C.shape[0] >= expected.shape[0]\n",
        "assert torch.allclose(C[: expected.shape[0]], expected, atol=1e-5, rtol=1e-3)\n"
      ],
      "metadata": {
        "id": "wnaLWHc0jGji"
      },
      "execution_count": 5,
      "outputs": []
    },
    {
      "cell_type": "code",
      "source": [
        "dtype     = torch.float32\n",
        "providers = [\"triton_loop\", \"triton_tile\", \"torch\"]\n",
        "configs   = [triton.testing.Benchmark(\n",
        "    x_names=[\"N\"],\n",
        "    x_vals=[2**i for i in range(10, 14)],   # 1024,2048,4096,8192\n",
        "    line_arg=\"provider\",\n",
        "    line_vals=providers,\n",
        "    line_names=providers,\n",
        "    styles=[(\"green\",\"-\"),(\"blue\",\"-\"),(\"red\",\"--\")],\n",
        "    ylabel=\"TFLOPS\",\n",
        "    plot_name=\"conv1d_multi\",\n",
        "    args={},                                # required\n",
        ")]\n",
        "\n",
        "@triton.testing.perf_report(configs)\n",
        "def benchmark(N, provider):\n",
        "    K     = 64\n",
        "    BLOCK = 128\n",
        "    # prepare inputs\n",
        "    A = torch.randn((N,), device='cuda', dtype=dtype) / N\n",
        "    B = torch.randn((K,), device='cuda', dtype=dtype) / K\n",
        "    C = torch.empty_like(A)\n",
        "    qs = [0.5, 0.2, 0.8]\n",
        "\n",
        "    # pick your function based on provider\n",
        "    if provider == \"triton_loop\":\n",
        "        fn = lambda: conv1d_loop_kernel[(1,)](A, B, C, N, K)\n",
        "    elif provider == \"triton_tile\":\n",
        "        grid = lambda meta: ((N + BLOCK - 1) // BLOCK, )\n",
        "        fn   = lambda: conv1d_tile_kernel[grid](A, B, C, N, K, BLOCK)\n",
        "    else:  # torch baseline\n",
        "        fn = lambda: torch.nn.functional.conv1d(\n",
        "            A[None,None,:], B[None,None,:], padding=K-1\n",
        "        ).view(-1)\n",
        "\n",
        "    ms, mn, mx = triton.testing.do_bench(fn, quantiles=qs)\n",
        "    flops      = N * K * 2\n",
        "    perf       = lambda t: flops * 1e-12 / (t * 1e-3)\n",
        "    return perf(ms), perf(mx), perf(mn)\n",
        "\n",
        "# run everything\n",
        "benchmark.run(show_plots=True, print_data=True)\n"
      ],
      "metadata": {
        "colab": {
          "base_uri": "https://localhost:8080/",
          "height": 556
        },
        "id": "X2hKAbtxdwu9",
        "outputId": "29d97d04-1141-4560-fb84-8db70e5851b4"
      },
      "execution_count": 6,
      "outputs": [
        {
          "output_type": "display_data",
          "data": {
            "text/plain": [
              "<Figure size 640x480 with 1 Axes>"
            ],
            "image/png": "[encoded data removed]"
          },
          "metadata": {}
        },
        {
          "output_type": "stream",
          "name": "stdout",
          "text": [
            "conv1d_multi:\n",
            "        N  triton_loop  triton_tile     torch\n",
            "0  1024.0     0.000183     0.015876  0.010476\n",
            "1  2048.0     0.000427     0.046811  0.014976\n",
            "2  4096.0     0.000485     0.105703  0.017430\n",
            "3  8192.0     0.000487     0.170667  0.019084\n"
          ]
        }
      ]
    },
    {
      "cell_type": "markdown",
      "source": [
        "this only gives host-level traces"
      ],
      "metadata": {
        "id": "GS0x8sL7zdXX"
      }
    },
    {
      "cell_type": "code",
      "source": [
        "from torch.profiler import profile, record_function, ProfilerActivity, schedule\n",
        "\n",
        "def export_chrome_trace_with_warmup(\n",
        "    N=4096, K=64, BLOCK=128, trace_path=\"conv_trace.json\"\n",
        "):\n",
        "    A = torch.randn((N,), device=\"cuda\")/N\n",
        "    B = torch.randn((K,), device=\"cuda\")/K\n",
        "    C = torch.empty_like(A)\n",
        "    # warmup\n",
        "    conv1d_loop_kernel[(1,)](A, B, C, N, K); torch.cuda.synchronize()\n",
        "    grid = ((N + BLOCK - 1)//BLOCK,)\n",
        "    conv1d_tile_kernel[grid](A, B, C, N, K, BLOCK); torch.cuda.synchronize()\n",
        "    torch.nn.functional.conv1d(\n",
        "        A[None,None,:], B[None,None,:], padding=K-1\n",
        "    ).view(-1); torch.cuda.synchronize()\n",
        "\n",
        "    # record *3* regions = active=3\n",
        "    prof_sched = schedule(wait=0, warmup=0, active=3, repeat=1)\n",
        "    with profile(\n",
        "        activities=[ProfilerActivity.CPU, ProfilerActivity.CUDA],\n",
        "        schedule=prof_sched,\n",
        "        record_shapes=True,\n",
        "        with_stack=False,\n",
        "        on_trace_ready=lambda p: p.export_chrome_trace(trace_path),\n",
        "    ) as prof:\n",
        "        with record_function(\"triton_loop\"):\n",
        "            conv1d_loop_kernel[(1,)](A, B, C, N, K)\n",
        "        prof.step()\n",
        "\n",
        "        with record_function(\"triton_tile\"):\n",
        "            conv1d_tile_kernel[grid](A, B, C, N, K, BLOCK)\n",
        "        prof.step()\n",
        "\n",
        "        with record_function(\"torch_conv1d\"):\n",
        "            torch.nn.functional.conv1d(\n",
        "                A[None,None,:], B[None,None,:], padding=K-1\n",
        "            ).view(-1)\n",
        "        prof.step()\n",
        "\n",
        "    print(f\"wrote chrome trace → {trace_path}\")\n",
        "\n",
        "# run it\n",
        "export_chrome_trace_with_warmup()\n"
      ],
      "metadata": {
        "id": "kw4de2uMhlum",
        "colab": {
          "base_uri": "https://localhost:8080/"
        },
        "outputId": "245e4aae-1ae5-4495-f027-88dd6065c0b9"
      },
      "execution_count": 29,
      "outputs": [
        {
          "output_type": "stream",
          "name": "stdout",
          "text": [
            "wrote chrome trace → conv_trace.json\n"
          ]
        }
      ]
    },
    {
      "cell_type": "code",
      "source": [],
      "metadata": {
        "id": "F2TwkK4F4guf"
      },
      "execution_count": null,
      "outputs": []
    }
  ]
}