{
  "nbformat": 4,
  "nbformat_minor": 0,
  "metadata": {
    "colab": {
      "provenance": [],
      "gpuType": "T4",
      "authorship_tag": "ABX9TyP/pVjVFU0YiL1PqFWcVQOk",
      "include_colab_link": true
    },
    "kernelspec": {
      "name": "python3",
      "display_name": "Python 3"
    },
    "language_info": {
      "name": "python"
    },
    "accelerator": "GPU"
  },
  "cells": [
    {
      "cell_type": "markdown",
      "metadata": {
        "id": "view-in-github",
        "colab_type": "text"
      },
      "source": [
        "<a href=\"https://colab.research.google.com/github/sidnb13/moonshots/blob/master/kernels/triton_kernels.ipynb\" target=\"_parent\"><img src=\"https://colab.research.google.com/assets/colab-badge.svg\" alt=\"Open In Colab\"/></a>"
      ]
    },
    {
      "cell_type": "code",
      "source": [
        "import torch\n",
        "import triton\n",
        "import triton.language as tl"
      ],
      "metadata": {
        "id": "qCLBbJysdbOJ"
      },
      "execution_count": 1,
      "outputs": []
    },
    {
      "cell_type": "code",
      "execution_count": 2,
      "metadata": {
        "id": "H920F343dDKQ"
      },
      "outputs": [],
      "source": [
        "@triton.jit\n",
        "def conv1d_loop_kernel(A, B, C, N: tl.constexpr, K: tl.constexpr):\n",
        "    res = tl.zeros((N,), dtype=tl.float32)\n",
        "\n",
        "    for i in range(N):\n",
        "        offs = tl.arange(0, K)\n",
        "        a_range = i + offs\n",
        "        b_range = offs\n",
        "        a = tl.load(A + a_range)\n",
        "        b = tl.load(B + b_range)\n",
        "        tl.store(C + i, tl.sum(a * b))"
      ]
    },
    {
      "cell_type": "code",
      "source": [
        "N, K   = 1024, 64\n",
        "device = 'cuda'\n",
        "# A is exactly length N\n",
        "A = torch.randn((N,), device=device, dtype=torch.float32)\n",
        "B = torch.randn((K,), device=device, dtype=torch.float32)\n",
        "C = torch.empty((N,), device=device, dtype=torch.float32)\n",
        "\n",
        "# one Triton program does the whole loop\n",
        "grid = lambda META: (1,)\n",
        "\n",
        "conv1d_loop_kernel[grid](A, B, C, N, K) # type: ignore\n",
        "torch.cuda.synchronize()\n",
        "\n",
        "# torch no-pad ⇒ valid conv ⇒ length = N-K+1\n",
        "expected = torch.nn.functional.conv1d(\n",
        "    A[None,None,:], B[None,None,:], padding=0\n",
        ").view(-1)\n",
        "# compare the first N-K+1 entries of C\n",
        "assert C.shape[0] >= expected.shape[0]\n",
        "assert torch.allclose(C[: expected.shape[0]], expected, atol=1e-5, rtol=1e-3)\n"
      ],
      "metadata": {
        "id": "OxTMANzddaip"
      },
      "execution_count": 3,
      "outputs": []
    },
    {
      "cell_type": "code",
      "source": [
        "@triton.jit\n",
        "def conv1d_tile_kernel(A, B, C, N: tl.constexpr, K: tl.constexpr, BLOCK: tl.constexpr):\n",
        "    # More efficient: launch a program per tile for vectorization\n",
        "    pid = tl.program_id(0)\n",
        "    offs = tl.arange(0, BLOCK)\n",
        "    idx = pid * BLOCK + offs\n",
        "    mask = idx < N\n",
        "\n",
        "    window = idx[:, None] + tl.arange(0, K)[None, :]\n",
        "\n",
        "    a = tl.load(A + window, mask[:, None]) # [BLOCK, K]\n",
        "    b = tl.load(B + tl.arange(0, K)) # [K]\n",
        "\n",
        "    c = tl.sum(a * b, axis=1)\n",
        "    tl.store(C + idx, c, mask)\n",
        "\n"
      ],
      "metadata": {
        "id": "tJXLS4Msi5oi"
      },
      "execution_count": 4,
      "outputs": []
    },
    {
      "cell_type": "code",
      "source": [
        "N, K   = 1024, 64\n",
        "device = 'cuda'\n",
        "# A is exactly length N\n",
        "A = torch.randn((N,), device=device, dtype=torch.float32)\n",
        "B = torch.randn((K,), device=device, dtype=torch.float32)\n",
        "C = torch.empty((N,), device=device, dtype=torch.float32)\n",
        "\n",
        "BLOCK = 32\n",
        "\n",
        "# one Triton program does the whole loop\n",
        "grid = lambda META: ((N + BLOCK - 1)//BLOCK,)\n",
        "\n",
        "conv1d_tile_kernel[grid](A, B, C, N, K, BLOCK) # type: ignore\n",
        "torch.cuda.synchronize()\n",
        "\n",
        "# torch no-pad ⇒ valid conv ⇒ length = N-K+1\n",
        "expected = torch.nn.functional.conv1d(\n",
        "    A[None,None,:], B[None,None,:], padding=0\n",
        ").view(-1)\n",
        "# compare the first N-K+1 entries of C\n",
        "assert C.shape[0] >= expected.shape[0]\n",
        "assert torch.allclose(C[: expected.shape[0]], expected, atol=1e-5, rtol=1e-3)\n"
      ],
      "metadata": {
        "id": "wnaLWHc0jGji"
      },
      "execution_count": 5,
      "outputs": []
    },
    {
      "cell_type": "code",
      "source": [
        "dtype     = torch.float32\n",
        "providers = [\"triton_loop\", \"triton_tile\", \"torch\"]\n",
        "configs   = [triton.testing.Benchmark(\n",
        "    x_names=[\"N\"],\n",
        "    x_vals=[2**i for i in range(10, 14)],   # 1024,2048,4096,8192\n",
        "    line_arg=\"provider\",\n",
        "    line_vals=providers,\n",
        "    line_names=providers,\n",
        "    styles=[(\"green\",\"-\"),(\"blue\",\"-\"),(\"red\",\"--\")],\n",
        "    ylabel=\"TFLOPS\",\n",
        "    plot_name=\"conv1d_multi\",\n",
        "    args={},                                # required\n",
        ")]\n",
        "\n",
        "@triton.testing.perf_report(configs)\n",
        "def benchmark(N, provider):\n",
        "    K     = 64\n",
        "    BLOCK = 128\n",
        "    # prepare inputs\n",
        "    A = torch.randn((N,), device='cuda', dtype=dtype) / N\n",
        "    B = torch.randn((K,), device='cuda', dtype=dtype) / K\n",
        "    C = torch.empty_like(A)\n",
        "    qs = [0.5, 0.2, 0.8]\n",
        "\n",
        "    # pick your function based on provider\n",
        "    if provider == \"triton_loop\":\n",
        "        fn = lambda: conv1d_loop_kernel[(1,)](A, B, C, N, K)\n",
        "    elif provider == \"triton_tile\":\n",
        "        grid = lambda meta: ((N + BLOCK - 1) // BLOCK, )\n",
        "        fn   = lambda: conv1d_tile_kernel[grid](A, B, C, N, K, BLOCK)\n",
        "    else:  # torch baseline\n",
        "        fn = lambda: torch.nn.functional.conv1d(\n",
        "            A[None,None,:], B[None,None,:], padding=K-1\n",
        "        ).view(-1)\n",
        "\n",
        "    ms, mn, mx = triton.testing.do_bench(fn, quantiles=qs)\n",
        "    flops      = N * K * 2\n",
        "    perf       = lambda t: flops * 1e-12 / (t * 1e-3)\n",
        "    return perf(ms), perf(mx), perf(mn)\n",
        "\n",
        "# run everything\n",
        "benchmark.run(show_plots=True, print_data=True)\n"
      ],
      "metadata": {
        "colab": {
          "base_uri": "https://localhost:8080/",
          "height": 556
        },
        "id": "X2hKAbtxdwu9",
        "outputId": "afcaecc3-bd5e-452e-abfc-1e6412935963"
      },
      "execution_count": 6,
      "outputs": [
        {
          "output_type": "display_data",
          "data": {
            "text/plain": [
              "<Figure size 640x480 with 1 Axes>"
            ],
            "image/png": "[encoded data removed]"
          },
          "metadata": {}
        },
        {
          "output_type": "stream",
          "name": "stdout",
          "text": [
            "conv1d_multi:\n",
            "        N  triton_loop  triton_tile     torch\n",
            "0  1024.0     0.000182     0.015693  0.005333\n",
            "1  2048.0     0.000366     0.052852  0.014868\n",
            "2  4096.0     0.000481     0.098402  0.017192\n",
            "3  8192.0     0.000483     0.170667  0.018963\n"
          ]
        }
      ]
    },
    {
      "cell_type": "markdown",
      "source": [
        "this only gives host-level traces"
      ],
      "metadata": {
        "id": "GS0x8sL7zdXX"
      }
    },
    {
      "cell_type": "code",
      "source": [
        "from torch.profiler import profile, record_function, ProfilerActivity, schedule\n",
        "\n",
        "def export_chrome_trace_with_warmup(\n",
        "    N=4096, K=64, BLOCK=128, trace_path=\"conv_trace.json\"\n",
        "):\n",
        "    A = torch.randn((N,), device=\"cuda\")/N\n",
        "    B = torch.randn((K,), device=\"cuda\")/K\n",
        "    C = torch.empty_like(A)\n",
        "    # warmup\n",
        "    conv1d_loop_kernel[(1,)](A, B, C, N, K); torch.cuda.synchronize()\n",
        "    grid = ((N + BLOCK - 1)//BLOCK,)\n",
        "    conv1d_tile_kernel[grid](A, B, C, N, K, BLOCK); torch.cuda.synchronize()\n",
        "    torch.nn.functional.conv1d(\n",
        "        A[None,None,:], B[None,None,:], padding=K-1\n",
        "    ).view(-1); torch.cuda.synchronize()\n",
        "\n",
        "    # record *3* regions = active=3\n",
        "    prof_sched = schedule(wait=0, warmup=0, active=3, repeat=1)\n",
        "    with profile(\n",
        "        activities=[ProfilerActivity.CPU, ProfilerActivity.CUDA],\n",
        "        schedule=prof_sched,\n",
        "        record_shapes=True,\n",
        "        with_stack=False,\n",
        "        on_trace_ready=lambda p: p.export_chrome_trace(trace_path),\n",
        "    ) as prof:\n",
        "        with record_function(\"triton_loop\"):\n",
        "            conv1d_loop_kernel[(1,)](A, B, C, N, K)\n",
        "        prof.step()\n",
        "\n",
        "        with record_function(\"triton_tile\"):\n",
        "            conv1d_tile_kernel[grid](A, B, C, N, K, BLOCK)\n",
        "        prof.step()\n",
        "\n",
        "        with record_function(\"torch_conv1d\"):\n",
        "            torch.nn.functional.conv1d(\n",
        "                A[None,None,:], B[None,None,:], padding=K-1\n",
        "            ).view(-1)\n",
        "        prof.step()\n",
        "\n",
        "    print(f\"wrote chrome trace → {trace_path}\")\n",
        "\n",
        "# run it\n",
        "export_chrome_trace_with_warmup()\n"
      ],
      "metadata": {
        "id": "kw4de2uMhlum",
        "colab": {
          "base_uri": "https://localhost:8080/"
        },
        "outputId": "52b4dd55-31c3-402d-ad11-a8578515efaa"
      },
      "execution_count": 7,
      "outputs": [
        {
          "output_type": "stream",
          "name": "stdout",
          "text": [
            "wrote chrome trace → conv_trace.json\n"
          ]
        },
        {
          "output_type": "stream",
          "name": "stderr",
          "text": [
            "/usr/local/lib/python3.11/dist-packages/torch/profiler/profiler.py:488: UserWarning: Profiler won't be using warmup, this can skew profiler results\n",
            "  warn(\"Profiler won't be using warmup, this can skew profiler results\")\n"
          ]
        }
      ]
    },
    {
      "cell_type": "code",
      "source": [
        "@triton.jit\n",
        "def softmax_kernel(x_ptr, z_ptr, N0, N1, T, B0: tl.constexpr, B1: tl.constexpr):\n",
        "    pid_0 = tl.program_id(0)\n",
        "    log2_e = 1.44269504\n",
        "    row_idx = pid_0 * B0 + tl.arange(0, B0)\n",
        "\n",
        "    # find rowmax and rowsum iteratively\n",
        "    rowsum = tl.zeros((B0,), dtype=tl.float32)\n",
        "    rowmax = tl.zeros((B0,), dtype=tl.float32)\n",
        "\n",
        "    for i in range(0, T, B1):\n",
        "        offs = i + tl.arange(0, B1)\n",
        "        x = tl.load(x_ptr + row_idx*T + offs, offs < T)\n",
        "        chunk_max = tl.max(x)\n",
        "        # Avoid 0 * inf -> nan error\n",
        "        if i == 0:\n",
        "            rowmax = tl.full((B0,), chunk_max, dtype=tl.float32)\n",
        "        newmax = tl.maximum(rowmax, chunk_max)\n",
        "        # Rescale all the sum terms to erase rowmax\n",
        "        rowsum *= tl.exp2(log2_e * (rowmax - newmax))\n",
        "        rowsum += tl.sum(tl.exp2(log2_e * (x - newmax)), 0)\n",
        "        # set new max\n",
        "        rowmax = newmax\n",
        "\n",
        "    # Now normalize each chunk\n",
        "    for i in range(0, T, B1):\n",
        "        offs = i + tl.arange(0, B1)\n",
        "        x = tl.load(x_ptr + row_idx*T + offs, offs < T)\n",
        "        xnorm = tl.exp2(log2_e * (x - rowmax)) / rowsum\n",
        "        tl.store(z_ptr + row_idx*T + offs, xnorm, offs < T)"
      ],
      "metadata": {
        "id": "0FqHm_prUSqh"
      },
      "execution_count": 15,
      "outputs": []
    },
    {
      "cell_type": "code",
      "source": [
        "import torch\n",
        "import triton\n",
        "import triton.testing\n",
        "\n",
        "# pytorch reference\n",
        "def softmax_spec(x):\n",
        "    x_max = x.max(1, keepdim=True)[0]\n",
        "    x = x - x_max\n",
        "    x_exp = x.exp()\n",
        "    return x_exp / x_exp.sum(1, keepdim=True)\n",
        "\n",
        "# config\n",
        "N0 = 256\n",
        "B0 = 1\n",
        "B1 = 64\n",
        "providers = [\"triton\", \"torch\"]\n",
        "configs = [triton.testing.Benchmark(\n",
        "    x_names=[\"N1\"],\n",
        "    x_vals=[200, 400, 800, 1600, 3200],\n",
        "    line_arg=\"provider\",\n",
        "    line_vals=providers,\n",
        "    line_names=providers,\n",
        "    styles=[(\"blue\",\"-\"), (\"red\",\"--\")],\n",
        "    ylabel=\"TFLOPS\",\n",
        "    plot_name=\"softmax_tflops\",\n",
        "    args={},\n",
        ")]\n",
        "\n",
        "@triton.testing.perf_report(configs)\n",
        "def bench(N1, provider):\n",
        "    x = torch.randn((N0, N1), device='cuda', dtype=torch.float32)\n",
        "    y = torch.empty_like(x)\n",
        "    if provider == \"triton\":\n",
        "        grid = lambda meta: ((N0 + meta['B0'] - 1) // meta['B0'],)\n",
        "        fn = lambda: softmax_kernel[grid](x, y, N0, N1, N1, B0, B1)\n",
        "    else:\n",
        "        fn = lambda: softmax_spec(x)\n",
        "    # measure latencies\n",
        "    ms, mn, mx = triton.testing.do_bench(fn, quantiles=[0.5, 0.2, 0.8])\n",
        "    # ops≈6 per element (max,sub,exp,add,div)\n",
        "    flops = 6 * N0 * N1\n",
        "    perf = lambda t: flops * 1e-12 / (t * 1e-3)  # TFLOPS\n",
        "    # return median, worst, best TFLOPS\n",
        "    return perf(ms), perf(mx), perf(mn)\n",
        "\n",
        "bench.run(show_plots=True, print_data=True)\n"
      ],
      "metadata": {
        "colab": {
          "base_uri": "https://localhost:8080/",
          "height": 574
        },
        "id": "OO3O4mdFUo8w",
        "outputId": "57ebdc2d-cc62-4ed4-dbea-8d40758d783d"
      },
      "execution_count": 20,
      "outputs": [
        {
          "output_type": "display_data",
          "data": {
            "text/plain": [
              "<Figure size 640x480 with 1 Axes>"
            ],
            "image/png": "[encoded data removed]"
          },
          "metadata": {}
        },
        {
          "output_type": "stream",
          "name": "stdout",
          "text": [
            "softmax_tflops:\n",
            "       N1    triton     torch\n",
            "0   200.0  0.016134  0.008081\n",
            "1   400.0  0.032378  0.017143\n",
            "2   800.0  0.058359  0.040125\n",
            "3  1600.0  0.065085  0.057143\n",
            "4  3200.0  0.057313  0.045565\n"
          ]
        }
      ]
    },
    {
      "cell_type": "markdown",
      "source": [
        "Interpreter mode for fast and quick debugging"
      ],
      "metadata": {
        "id": "urhT90_VkGkj"
      }
    },
    {
      "cell_type": "code",
      "source": [
        "import os\n",
        "os.environ[\"TRITON_INTERPRET\"] = \"1\"\n",
        "\n",
        "import torch\n",
        "import triton\n",
        "import triton.language as tl"
      ],
      "metadata": {
        "id": "qF9SObiIhwNH"
      },
      "execution_count": null,
      "outputs": []
    },
    {
      "cell_type": "code",
      "source": [
        "def sum_spec(x):\n",
        "    return x.sum(1)\n",
        "\n",
        "@triton.jit\n",
        "def sum_kernel(x_ptr, z_ptr, N0, N1, T, B0: tl.constexpr, B1: tl.constexpr):\n",
        "    pid_0 = tl.program_id(0)\n",
        "    # We parallelize over the batch dim\n",
        "    row_idx = pid_0 * B0 + tl.arange(0, B0)\n",
        "    acc = tl.zeros((B0,), dtype=tl.float32)\n",
        "    # Step in block1 size increments\n",
        "    for i in range(0, T, B1):\n",
        "        row_segment = i + tl.arange(0, B1)\n",
        "        x = tl.load(x_ptr + row_idx*T + row_segment, row_segment < T)\n",
        "        acc += tl.sum(x, 0)\n",
        "    tl.store(z_ptr + row_idx, acc, row_idx < N0)"
      ],
      "metadata": {
        "id": "F2TwkK4F4guf"
      },
      "execution_count": null,
      "outputs": []
    },
    {
      "cell_type": "code",
      "source": [
        "from math import ceil\n",
        "\n",
        "def test_kernel():\n",
        "    B0, B1 = 1, 32\n",
        "    N0, N1 = 4, 32\n",
        "    T = 200\n",
        "    # generate inputs\n",
        "    x = torch.arange(0, T*N0, dtype=torch.float32).reshape(\n",
        "        N0, T\n",
        "    )\n",
        "    z = torch.zeros((N0,), dtype=torch.float32)\n",
        "    grid = (ceil(N0 / B0), ceil(N1 / B1))\n",
        "    sum_kernel[grid](\n",
        "        x_ptr=x, z_ptr=z,\n",
        "        N0=N0, N1=N1, T=T,\n",
        "        B0=B0, B1=B1 # type: ignore\n",
        "    )\n",
        "    # run ref\n",
        "    z_ref = sum_spec(x)\n",
        "    # compare\n",
        "    print(\"kernel out:\", z)\n",
        "    print(\"ref out:   \", z_ref)\n",
        "    print(\"max abs diff:\", (z - z_ref).abs().max().item())\n",
        "\n",
        "test_kernel()"
      ],
      "metadata": {
        "id": "shrfEB7PjNct"
      },
      "execution_count": null,
      "outputs": []
    }
  ]
}