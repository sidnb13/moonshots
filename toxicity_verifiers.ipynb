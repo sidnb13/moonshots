{
 "cells": [
  {
   "cell_type": "code",
   "execution_count": 1,
   "metadata": {},
   "outputs": [
    {
     "data": {
      "text/plain": [
       "True"
      ]
     },
     "execution_count": 1,
     "metadata": {},
     "output_type": "execute_result"
    }
   ],
   "source": [
    "from datasets import load_dataset\n",
    "from transformers import AutoTokenizer\n",
    "import random\n",
    "from dotenv import load_dotenv\n",
    "\n",
    "load_dotenv(override=True)"
   ]
  },
  {
   "cell_type": "code",
   "execution_count": 2,
   "metadata": {},
   "outputs": [],
   "source": [
    "ds = load_dataset(\n",
    "    \"thesofakillers/jigsaw-toxic-comment-classification-challenge\",\n",
    "    trust_remote_code=True,\n",
    ")"
   ]
  },
  {
   "cell_type": "code",
   "execution_count": 3,
   "metadata": {},
   "outputs": [
    {
     "data": {
      "text/plain": [
       "{'train': ['id',\n",
       "  'comment_text',\n",
       "  'toxic',\n",
       "  'severe_toxic',\n",
       "  'obscene',\n",
       "  'threat',\n",
       "  'insult',\n",
       "  'identity_hate'],\n",
       " 'test': ['id',\n",
       "  'comment_text',\n",
       "  'toxic',\n",
       "  'severe_toxic',\n",
       "  'obscene',\n",
       "  'threat',\n",
       "  'insult',\n",
       "  'identity_hate']}"
      ]
     },
     "execution_count": 3,
     "metadata": {},
     "output_type": "execute_result"
    }
   ],
   "source": [
    "ds.column_names"
   ]
  },
  {
   "cell_type": "code",
   "execution_count": 4,
   "metadata": {},
   "outputs": [],
   "source": [
    "import pandas as pd\n",
    "\n",
    "# Convert the dataset to a pandas DataFrame\n",
    "df = ds[\"train\"].to_pandas()\n",
    "classification_labels = [\n",
    "    c for c in ds.column_names[\"train\"] if c not in [\"id\", \"comment_text\"]\n",
    "]\n",
    "df[\"num_labels_on\"] = df[classification_labels].sum(axis=1)\n",
    "category_buckets = {k: v for k, v in df.groupby(\"num_labels_on\")}"
   ]
  },
  {
   "cell_type": "code",
   "execution_count": 5,
   "metadata": {},
   "outputs": [
    {
     "data": {
      "text/html": [
       "<div>\n",
       "<style scoped>\n",
       "    .dataframe tbody tr th:only-of-type {\n",
       "        vertical-align: middle;\n",
       "    }\n",
       "\n",
       "    .dataframe tbody tr th {\n",
       "        vertical-align: top;\n",
       "    }\n",
       "\n",
       "    .dataframe thead th {\n",
       "        text-align: right;\n",
       "    }\n",
       "</style>\n",
       "<table border=\"1\" class=\"dataframe\">\n",
       "  <thead>\n",
       "    <tr style=\"text-align: right;\">\n",
       "      <th></th>\n",
       "      <th>id</th>\n",
       "      <th>comment_text</th>\n",
       "      <th>toxic</th>\n",
       "      <th>severe_toxic</th>\n",
       "      <th>obscene</th>\n",
       "      <th>threat</th>\n",
       "      <th>insult</th>\n",
       "      <th>identity_hate</th>\n",
       "      <th>num_labels_on</th>\n",
       "    </tr>\n",
       "  </thead>\n",
       "  <tbody>\n",
       "    <tr>\n",
       "      <th>6</th>\n",
       "      <td>0002bcb3da6cb337</td>\n",
       "      <td>COCKSUCKER BEFORE YOU PISS AROUND ON MY WORK</td>\n",
       "      <td>1</td>\n",
       "      <td>1</td>\n",
       "      <td>1</td>\n",
       "      <td>0</td>\n",
       "      <td>1</td>\n",
       "      <td>0</td>\n",
       "      <td>4</td>\n",
       "    </tr>\n",
       "    <tr>\n",
       "      <th>42</th>\n",
       "      <td>001810bf8c45bf5f</td>\n",
       "      <td>You are gay or antisemmitian? \\n\\nArchangel WH...</td>\n",
       "      <td>1</td>\n",
       "      <td>0</td>\n",
       "      <td>1</td>\n",
       "      <td>0</td>\n",
       "      <td>1</td>\n",
       "      <td>1</td>\n",
       "      <td>4</td>\n",
       "    </tr>\n",
       "    <tr>\n",
       "      <th>55</th>\n",
       "      <td>0020e7119b96eeeb</td>\n",
       "      <td>Stupid peace of shit stop deleting my stuff as...</td>\n",
       "      <td>1</td>\n",
       "      <td>1</td>\n",
       "      <td>1</td>\n",
       "      <td>0</td>\n",
       "      <td>1</td>\n",
       "      <td>0</td>\n",
       "      <td>4</td>\n",
       "    </tr>\n",
       "    <tr>\n",
       "      <th>105</th>\n",
       "      <td>00472b8e2d38d1ea</td>\n",
       "      <td>A pair of jew-hating weiner nazi schmucks.</td>\n",
       "      <td>1</td>\n",
       "      <td>0</td>\n",
       "      <td>1</td>\n",
       "      <td>0</td>\n",
       "      <td>1</td>\n",
       "      <td>1</td>\n",
       "      <td>4</td>\n",
       "    </tr>\n",
       "    <tr>\n",
       "      <th>181</th>\n",
       "      <td>006e87872c8b370c</td>\n",
       "      <td>you are a stupid fuck \\n\\nand your mother's cu...</td>\n",
       "      <td>1</td>\n",
       "      <td>1</td>\n",
       "      <td>1</td>\n",
       "      <td>0</td>\n",
       "      <td>1</td>\n",
       "      <td>0</td>\n",
       "      <td>4</td>\n",
       "    </tr>\n",
       "    <tr>\n",
       "      <th>...</th>\n",
       "      <td>...</td>\n",
       "      <td>...</td>\n",
       "      <td>...</td>\n",
       "      <td>...</td>\n",
       "      <td>...</td>\n",
       "      <td>...</td>\n",
       "      <td>...</td>\n",
       "      <td>...</td>\n",
       "      <td>...</td>\n",
       "    </tr>\n",
       "    <tr>\n",
       "      <th>159096</th>\n",
       "      <td>f871b05d4caa6f20</td>\n",
       "      <td>You filthy, stinking crow! \\n\\nI am back! Dirt...</td>\n",
       "      <td>1</td>\n",
       "      <td>1</td>\n",
       "      <td>1</td>\n",
       "      <td>0</td>\n",
       "      <td>1</td>\n",
       "      <td>0</td>\n",
       "      <td>4</td>\n",
       "    </tr>\n",
       "    <tr>\n",
       "      <th>159099</th>\n",
       "      <td>f885a3e2d779342e</td>\n",
       "      <td>now\\n\\nyou fucking pathetic moron. \\n\\ncc:  Ji...</td>\n",
       "      <td>1</td>\n",
       "      <td>1</td>\n",
       "      <td>1</td>\n",
       "      <td>0</td>\n",
       "      <td>1</td>\n",
       "      <td>0</td>\n",
       "      <td>4</td>\n",
       "    </tr>\n",
       "    <tr>\n",
       "      <th>159312</th>\n",
       "      <td>fbf20e312cd4a78d</td>\n",
       "      <td>Walter Mercado \\n\\nAntonio, quite frankly, you...</td>\n",
       "      <td>1</td>\n",
       "      <td>1</td>\n",
       "      <td>1</td>\n",
       "      <td>0</td>\n",
       "      <td>1</td>\n",
       "      <td>0</td>\n",
       "      <td>4</td>\n",
       "    </tr>\n",
       "    <tr>\n",
       "      <th>159336</th>\n",
       "      <td>fc3efa2f6f025f6d</td>\n",
       "      <td>Oh, fuck off. The pansy Jew would just whine a...</td>\n",
       "      <td>1</td>\n",
       "      <td>0</td>\n",
       "      <td>1</td>\n",
       "      <td>0</td>\n",
       "      <td>1</td>\n",
       "      <td>1</td>\n",
       "      <td>4</td>\n",
       "    </tr>\n",
       "    <tr>\n",
       "      <th>159494</th>\n",
       "      <td>fef4cf7ba0012866</td>\n",
       "      <td>\"\\n\\n our previous conversation \\n\\nyou fuckin...</td>\n",
       "      <td>1</td>\n",
       "      <td>0</td>\n",
       "      <td>1</td>\n",
       "      <td>0</td>\n",
       "      <td>1</td>\n",
       "      <td>1</td>\n",
       "      <td>4</td>\n",
       "    </tr>\n",
       "  </tbody>\n",
       "</table>\n",
       "<p>1760 rows × 9 columns</p>\n",
       "</div>"
      ],
      "text/plain": [
       "                      id                                       comment_text  \\\n",
       "6       0002bcb3da6cb337       COCKSUCKER BEFORE YOU PISS AROUND ON MY WORK   \n",
       "42      001810bf8c45bf5f  You are gay or antisemmitian? \\n\\nArchangel WH...   \n",
       "55      0020e7119b96eeeb  Stupid peace of shit stop deleting my stuff as...   \n",
       "105     00472b8e2d38d1ea         A pair of jew-hating weiner nazi schmucks.   \n",
       "181     006e87872c8b370c  you are a stupid fuck \\n\\nand your mother's cu...   \n",
       "...                  ...                                                ...   \n",
       "159096  f871b05d4caa6f20  You filthy, stinking crow! \\n\\nI am back! Dirt...   \n",
       "159099  f885a3e2d779342e  now\\n\\nyou fucking pathetic moron. \\n\\ncc:  Ji...   \n",
       "159312  fbf20e312cd4a78d  Walter Mercado \\n\\nAntonio, quite frankly, you...   \n",
       "159336  fc3efa2f6f025f6d  Oh, fuck off. The pansy Jew would just whine a...   \n",
       "159494  fef4cf7ba0012866  \"\\n\\n our previous conversation \\n\\nyou fuckin...   \n",
       "\n",
       "        toxic  severe_toxic  obscene  threat  insult  identity_hate  \\\n",
       "6           1             1        1       0       1              0   \n",
       "42          1             0        1       0       1              1   \n",
       "55          1             1        1       0       1              0   \n",
       "105         1             0        1       0       1              1   \n",
       "181         1             1        1       0       1              0   \n",
       "...       ...           ...      ...     ...     ...            ...   \n",
       "159096      1             1        1       0       1              0   \n",
       "159099      1             1        1       0       1              0   \n",
       "159312      1             1        1       0       1              0   \n",
       "159336      1             0        1       0       1              1   \n",
       "159494      1             0        1       0       1              1   \n",
       "\n",
       "        num_labels_on  \n",
       "6                   4  \n",
       "42                  4  \n",
       "55                  4  \n",
       "105                 4  \n",
       "181                 4  \n",
       "...               ...  \n",
       "159096              4  \n",
       "159099              4  \n",
       "159312              4  \n",
       "159336              4  \n",
       "159494              4  \n",
       "\n",
       "[1760 rows x 9 columns]"
      ]
     },
     "execution_count": 5,
     "metadata": {},
     "output_type": "execute_result"
    }
   ],
   "source": [
    "category_buckets[4]"
   ]
  },
  {
   "cell_type": "code",
   "execution_count": 6,
   "metadata": {},
   "outputs": [
    {
     "name": "stdout",
     "output_type": "stream",
     "text": [
      "Bucket sizes histogram:\n",
      "Bucket 0: 143346 samples\n",
      "Bucket 1: 6360 samples\n",
      "Bucket 2: 3480 samples\n",
      "Bucket 3: 4209 samples\n",
      "Bucket 4: 1760 samples\n",
      "Bucket 5: 385 samples\n",
      "Bucket 6: 31 samples\n"
     ]
    },
    {
     "data": {
      "image/png": "[encoded data removed]",
      "text/plain": [
       "<Figure size 1000x600 with 1 Axes>"
      ]
     },
     "metadata": {},
     "output_type": "display_data"
    }
   ],
   "source": [
    "# Create histogram of bucket sizes and plot it\n",
    "import matplotlib.pyplot as plt\n",
    "\n",
    "bucket_sizes = {k: len(v) for k, v in category_buckets.items()}\n",
    "print(\"Bucket sizes histogram:\")\n",
    "for bucket, size in sorted(bucket_sizes.items()):\n",
    "    print(f\"Bucket {bucket}: {size} samples\")\n",
    "\n",
    "# Plot the histogram\n",
    "plt.figure(figsize=(10, 6))\n",
    "buckets = list(bucket_sizes.keys())\n",
    "sizes = list(bucket_sizes.values())\n",
    "\n",
    "plt.bar(buckets, sizes, color=\"skyblue\", edgecolor=\"black\")\n",
    "plt.xlabel(\"Number of Labels\")\n",
    "plt.ylabel(\"Number of Samples\")\n",
    "plt.title(\"Distribution of Samples by Number of Toxicity Labels\")\n",
    "plt.xticks(buckets)\n",
    "plt.grid(axis=\"y\", alpha=0.3)\n",
    "\n",
    "for i, v in enumerate(sizes):\n",
    "    plt.text(buckets[i], v + max(sizes) * 0.01, str(v), ha=\"center\", va=\"bottom\")\n",
    "\n",
    "plt.tight_layout()\n",
    "plt.show()"
   ]
  },
  {
   "cell_type": "code",
   "execution_count": 7,
   "metadata": {},
   "outputs": [],
   "source": [
    "sample = category_buckets[5].sample(1).iloc[0]"
   ]
  },
  {
   "cell_type": "code",
   "execution_count": 8,
   "metadata": {},
   "outputs": [],
   "source": [
    "tokenizer = AutoTokenizer.from_pretrained(\"EleutherAI/pythia-160m-deduped\")\n",
    "\n",
    "\n",
    "def clean_tokens(text: str) -> list[str]:\n",
    "    # Clean and tokenize the input text\n",
    "    text = text.strip()\n",
    "    encoded = tokenizer(text)\n",
    "    token_ids = encoded[\"input_ids\"]\n",
    "    tokens = [tokenizer.decode(i) for i in token_ids]\n",
    "    cleaned = [t.strip() for t in tokens if t.strip()]\n",
    "    return cleaned\n",
    "\n",
    "\n",
    "# Map the clean_tokens function to each category bucket\n",
    "category_buckets_tokens = {}\n",
    "\n",
    "for bucket_num, bucket_data in category_buckets.items():\n",
    "    if bucket_num > 0:\n",
    "        # Add cleaned_tokens column to each bucket DataFrame\n",
    "        bucket_data[\"cleaned_tokens\"] = bucket_data[\"comment_text\"].apply(clean_tokens)\n",
    "        # Apply clean_tokens to each row's comment_text in the bucket\n",
    "        category_buckets_tokens[bucket_num] = bucket_data[\"comment_text\"].apply(\n",
    "            clean_tokens\n",
    "        )\n"
   ]
  },
  {
   "cell_type": "code",
   "execution_count": 9,
   "metadata": {},
   "outputs": [
    {
     "name": "stdout",
     "output_type": "stream",
     "text": [
      "['you', 'will', 'block', 'me', 'you', 'filthy', 'coward', 'who', 'thinks', 'w', 'ikipedia', 'is', 'b', 'rit', 'ann', 'ica', 'en', 'cycl', 'opa', 'edia', 'in', '4', 'months', 'this', 'site', 'will', 'be', 'banned', 'by', 'US', 'G', 'OV', 'T', 'itself', 'and', 'you', 'will', 'ban', 'me', ',', 'i', 'will', 'fuck', 'your', 'mom', 'extremely', 'hard', '.', '122', '.', '161', '.', '78', '.', '118']\n"
     ]
    }
   ],
   "source": [
    "sample = category_buckets[3].sample(1).iloc[0]\n",
    "cleaned = sample[\"cleaned_tokens\"]\n",
    "print(cleaned)"
   ]
  },
  {
   "cell_type": "code",
   "execution_count": 10,
   "metadata": {},
   "outputs": [],
   "source": [
    "system_prompt = \"\"\"\n",
    "Classify each token in a given list as toxic or not, based on specific toxicity criteria, and provide the classification as a JSON object with a key called \"classifications\" containing a list of binary values. Only output the JSON object and no other extraneous text in the response.\n",
    "Identify if each token matches any of the following toxicity criteria: '{toxic', 'severe_toxic', 'obscene', 'threat', 'insult', 'identity_hate'}. If a token matches any of these criteria, it should be classified as toxic (1), otherwise, it should be classified as not toxic (0).\n",
    "\n",
    "# Steps\n",
    "\n",
    "1. **Token Evaluation**: For each token, evaluate whether it falls under any of the given toxicity types.\n",
    "2. **Classification**: Assign a binary value based on the evaluation:\n",
    "    - 1 if the token matches any of the toxicity criteria.\n",
    "    - 0 if the token does not match any of the toxicity criteria.\n",
    "3. **Sequence Classification**: Determine if tAhe entire sequence matches any of the toxicity criteria: should be 1 if any of the tokens match the toxicity criteria, otherwise 0.\n",
    "4. **Classification intensity**: Determine the intensity of the classification, assing a numeric value in range [0, 6] based on the number of activating toxicity criteria.\n",
    "\n",
    "Output A JSON object with sequence level and token level classifications and intensity.\n",
    "\n",
    "# Examples\n",
    "\n",
    "**Input**: \n",
    "A list of tokens such as `[\"hello\", \"insult\", \"cat\", \"threat\"]`.\n",
    "\n",
    "**Output**: \n",
    "- `{\"token_cls\": [0, 1, 0, 1], \"seq_cls\": 1, \"intensity\": 2}`\n",
    "\n",
    "**Explanation**:\n",
    "- \"hello\" is not toxic (0).\n",
    "- \"insult\" matches the criteria (1).\n",
    "- \"cat\" is not toxic (0).\n",
    "- \"threat\" matches the criteria (1).\n",
    "- The intensity is 2 because \"insult\" and \"threat\" match the criteria.\n",
    "\n",
    "# Notes\n",
    "\n",
    "- Ensure all tokens are considered independently.\n",
    "- The output list must match the input list's order in terms of position correspondence.\n",
    "- Consider case sensitivity and common variations of toxic language within the decision process.\n",
    "\"\"\"\n",
    "\n",
    "system_prompt_noschema = (\n",
    "    system_prompt\n",
    "    + \"\"\"\n",
    "Output your JSON object without any other text based on this schema:\n",
    "\n",
    "class ToxicityClassifier(BaseModel):\n",
    "    token_cls: list[int]\n",
    "    seq_cls: int\n",
    "    intensity: int\n",
    "\"\"\"\n",
    ")"
   ]
  },
  {
   "cell_type": "code",
   "execution_count": 11,
   "metadata": {},
   "outputs": [],
   "source": [
    "from openai import OpenAI\n",
    "from pydantic import BaseModel\n",
    "import json\n",
    "\n",
    "client = OpenAI()\n",
    "\n",
    "\n",
    "class ToxicityClassifier(BaseModel):\n",
    "    token_cls: list[int]\n",
    "    seq_cls: int\n",
    "    intensity: int\n",
    "\n",
    "\n",
    "def classify_toxicity(\n",
    "    text: str, structured=False, model=\"gpt-4.1\"\n",
    ") -> ToxicityClassifier:\n",
    "    if structured:\n",
    "        response = client.beta.chat.completions.parse(\n",
    "            model=model,\n",
    "            messages=[\n",
    "                {\"role\": \"system\", \"content\": system_prompt},\n",
    "                {\"role\": \"user\", \"content\": str(cleaned)},\n",
    "            ],\n",
    "            response_format=ToxicityClassifier,\n",
    "            max_tokens=2048,\n",
    "        )\n",
    "        return response.choices[0].message.parsed\n",
    "    else:\n",
    "        response = client.chat.completions.create(\n",
    "            model=model,\n",
    "            messages=[\n",
    "                {\"role\": \"system\", \"content\": system_prompt_noschema},\n",
    "                {\"role\": \"user\", \"content\": str(cleaned)},\n",
    "            ],\n",
    "            max_tokens=2048,\n",
    "        )\n",
    "        obj = json.loads(response.choices[0].message.content)\n",
    "        return ToxicityClassifier(**obj)\n",
    "\n",
    "\n",
    "def print_toxicity_heatmap(tokens, token_cls):\n",
    "    \"\"\"Prints text with toxic tokens highlighted using ANSI escape codes\"\"\"\n",
    "    highlighted = []\n",
    "    for token, cls in zip(tokens, token_cls):\n",
    "        if cls == 1:\n",
    "            highlighted.append(f\"\\033[41m\\033[97m{token}\\033[0m\")  # Red bg, white text\n",
    "        else:\n",
    "            highlighted.append(token)\n",
    "    print(\" \".join(highlighted))\n"
   ]
  },
  {
   "cell_type": "code",
   "execution_count": 12,
   "metadata": {},
   "outputs": [
    {
     "name": "stdout",
     "output_type": "stream",
     "text": [
      "seq cls 1\n",
      "intensity 3\n",
      "ground truth intensity 3\n",
      "you will block me you \u001b[41m\u001b[97mfilthy\u001b[0m \u001b[41m\u001b[97mcoward\u001b[0m who thinks w ikipedia is b rit ann ica en cycl opa edia in 4 months this site will be banned by US G OV T itself and you will ban me \u001b[41m\u001b[97m,\u001b[0m i will fuck your mom extremely hard . 122\n"
     ]
    }
   ],
   "source": [
    "obj = classify_toxicity(cleaned, structured=False, model=\"gpt-4.1-mini\")\n",
    "print(\"seq cls\", obj.seq_cls)\n",
    "print(\"intensity\", obj.intensity)\n",
    "\n",
    "print(\"ground truth intensity\", sample[\"num_labels_on\"])\n",
    "\n",
    "print_toxicity_heatmap(cleaned, obj.token_cls)"
   ]
  },
  {
   "cell_type": "code",
   "execution_count": 13,
   "metadata": {},
   "outputs": [],
   "source": [
    "from concurrent.futures import ThreadPoolExecutor, as_completed\n",
    "import pandas as pd\n",
    "\n",
    "nsamples = 100\n",
    "bucket = 3\n",
    "\n",
    "\n",
    "def process_sample(i):\n",
    "    sample = category_buckets[bucket].sample(1).iloc[0]\n",
    "    cleaned = sample[\"cleaned_tokens\"]\n",
    "    obj = classify_toxicity(cleaned, structured=False, model=\"gpt-4.1-mini\")\n",
    "    return {\n",
    "        **sample.to_dict(),\n",
    "        **{f\"verifier_{key}_b{bucket}\": json for key, json in obj.model_dump().items()},\n",
    "    }\n",
    "\n",
    "\n",
    "rows = []\n",
    "with ThreadPoolExecutor(max_workers=2) as executor:\n",
    "    futures = [executor.submit(process_sample, i) for i in range(nsamples)]\n",
    "    for future in as_completed(futures):\n",
    "        try:\n",
    "            rows.append(future.result())\n",
    "        except Exception as e:\n",
    "            print(f\"Error processing sample: {e}\")\n",
    "\n",
    "df = pd.DataFrame(rows)"
   ]
  },
  {
   "cell_type": "code",
   "execution_count": 27,
   "metadata": {},
   "outputs": [
    {
     "name": "stdout",
     "output_type": "stream",
     "text": [
      "You 're both a couple \u001b[41m\u001b[97mof\u001b[0m \u001b[41m\u001b[97mass\u001b[0m holes . -\n",
      "seq cls 1\n",
      "intensity 3\n",
      "ground truth intensity 3\n"
     ]
    }
   ],
   "source": [
    "idx = 1\n",
    "bucket = 3\n",
    "raw = {}\n",
    "for key in [\"token_cls\", \"seq_cls\", \"intensity\"]:\n",
    "    raw[key] = df.iloc[idx][f\"verifier_{key}_b{bucket}\"]\n",
    "obj = ToxicityClassifier.model_validate(raw)\n",
    "cleaned = df.iloc[idx][\"cleaned_tokens\"]\n",
    "print_toxicity_heatmap(cleaned, obj.token_cls)\n",
    "print(\"seq cls\", obj.seq_cls)\n",
    "print(\"intensity\", obj.intensity)\n",
    "print(\"ground truth intensity\", df.iloc[1][\"num_labels_on\"])"
   ]
  },
  {
   "cell_type": "code",
   "execution_count": 28,
   "metadata": {},
   "outputs": [
    {
     "data": {
      "text/plain": [
       "\"You're both a couple of assholes. -\""
      ]
     },
     "execution_count": 28,
     "metadata": {},
     "output_type": "execute_result"
    }
   ],
   "source": [
    "df.iloc[idx][\"comment_text\"]"
   ]
  },
  {
   "cell_type": "code",
   "execution_count": 30,
   "metadata": {},
   "outputs": [],
   "source": [
    "df.to_parquet(f\"assets/toxicity_verifiers_bucket_{bucket}.parquet\")"
   ]
  }
 ],
 "metadata": {
  "kernelspec": {
   "display_name": ".venv",
   "language": "python",
   "name": "python3"
  },
  "language_info": {
   "codemirror_mode": {
    "name": "ipython",
    "version": 3
   },
   "file_extension": ".py",
   "mimetype": "text/x-python",
   "name": "python",
   "nbconvert_exporter": "python",
   "pygments_lexer": "ipython3",
   "version": "3.11.3"
  }
 },
 "nbformat": 4,
 "nbformat_minor": 2
}
